{
 "cells": [
  {
   "cell_type": "code",
   "execution_count": 18,
   "metadata": {},
   "outputs": [],
   "source": [
    "from __future__ import print_function\n",
    "import numpy as np\n",
    "from keras.utils import np_utils\n",
    "from keras.models import Model, Sequential\n",
    "from keras.layers import Input, Dense , Activation , Flatten, Dropout\n",
    "from keras.layers import Convolution2D, MaxPooling2D\n"
   ]
  },
  {
   "cell_type": "code",
   "execution_count": 19,
   "metadata": {
    "collapsed": true
   },
   "outputs": [],
   "source": [
    "import time\n",
    "from PIL import Image\n",
    "from keras import backend\n",
    "from keras.applications.vgg16 import VGG16\n",
    "from scipy.optimize import fmin_l_bfgs_b\n",
    "from scipy.misc import imsave"
   ]
  },
  {
   "cell_type": "code",
   "execution_count": 20,
   "metadata": {
    "collapsed": true
   },
   "outputs": [],
   "source": [
    "height=128\n",
    "width =128\n",
    "\n",
    "content_image=Image.open('images/hugo.jpg')\n",
    "content_image=content_image.resize((height,width))\n",
    "#content_image"
   ]
  },
  {
   "cell_type": "code",
   "execution_count": 21,
   "metadata": {
    "collapsed": true
   },
   "outputs": [],
   "source": [
    "style_image=Image.open('images/styles/wave.jpg')\n",
    "style_image=style_image.resize((height,width))\n",
    "#style_image "
   ]
  },
  {
   "cell_type": "code",
   "execution_count": 22,
   "metadata": {},
   "outputs": [
    {
     "name": "stdout",
     "output_type": "stream",
     "text": [
      "(128, 128, 3)\n",
      "(1, 128, 128, 3)\n",
      "(128, 128, 3)\n",
      "(1, 128, 128, 3)\n"
     ]
    }
   ],
   "source": [
    "content_array = np.asarray(content_image, dtype='float32')\n",
    "print(content_array.shape)\n",
    "content_array=np.expand_dims(content_array,axis=0)\n",
    "print (content_array.shape)\n",
    "\n",
    "style_array = np.asarray(style_image, dtype='float32')\n",
    "print(style_array.shape)\n",
    "style_array=np.expand_dims(style_array,axis=0)\n",
    "print (style_array.shape)\n"
   ]
  },
  {
   "cell_type": "code",
   "execution_count": 23,
   "metadata": {
    "collapsed": true
   },
   "outputs": [],
   "source": [
    "content_array[:, :, :, 0] -= 103.939\n",
    "content_array[:, :, :, 1] -= 116.779\n",
    "content_array[:, :, :, 2] -= 123.68\n",
    "content_array = content_array[:, :, :, ::-1]\n",
    "\n",
    "style_array[:, :, :, 0] -= 103.939\n",
    "style_array[:, :, :, 1] -= 116.779\n",
    "style_array[:, :, :, 2] -= 123.68\n",
    "style_array = style_array[:, :, :, ::-1]"
   ]
  },
  {
   "cell_type": "code",
   "execution_count": 24,
   "metadata": {
    "collapsed": true
   },
   "outputs": [],
   "source": [
    "content_input = backend.variable(content_array)\n",
    "style_input  =backend.variable(style_array)\n",
    "combination_output =backend.placeholder((1,height,width,3))"
   ]
  },
  {
   "cell_type": "code",
   "execution_count": 25,
   "metadata": {
    "collapsed": true
   },
   "outputs": [],
   "source": [
    "input_tensor = backend.concatenate([content_input,\n",
    "                                    style_input,\n",
    "                                    combination_output], axis=0)"
   ]
  },
  {
   "cell_type": "code",
   "execution_count": 26,
   "metadata": {},
   "outputs": [],
   "source": [
    "model = VGG16(input_tensor=input_tensor, weights='imagenet',include_top=False)"
   ]
  },
  {
   "cell_type": "code",
   "execution_count": 27,
   "metadata": {},
   "outputs": [
    {
     "data": {
      "text/plain": [
       "{'block1_conv1': <tf.Tensor 'block1_conv1_1/Relu:0' shape=(3, 128, 128, 64) dtype=float32>,\n",
       " 'block1_conv2': <tf.Tensor 'block1_conv2_1/Relu:0' shape=(3, 128, 128, 64) dtype=float32>,\n",
       " 'block1_pool': <tf.Tensor 'block1_pool_1/MaxPool:0' shape=(3, 64, 64, 64) dtype=float32>,\n",
       " 'block2_conv1': <tf.Tensor 'block2_conv1_1/Relu:0' shape=(3, 64, 64, 128) dtype=float32>,\n",
       " 'block2_conv2': <tf.Tensor 'block2_conv2_1/Relu:0' shape=(3, 64, 64, 128) dtype=float32>,\n",
       " 'block2_pool': <tf.Tensor 'block2_pool_1/MaxPool:0' shape=(3, 32, 32, 128) dtype=float32>,\n",
       " 'block3_conv1': <tf.Tensor 'block3_conv1_1/Relu:0' shape=(3, 32, 32, 256) dtype=float32>,\n",
       " 'block3_conv2': <tf.Tensor 'block3_conv2_1/Relu:0' shape=(3, 32, 32, 256) dtype=float32>,\n",
       " 'block3_conv3': <tf.Tensor 'block3_conv3_1/Relu:0' shape=(3, 32, 32, 256) dtype=float32>,\n",
       " 'block3_pool': <tf.Tensor 'block3_pool_1/MaxPool:0' shape=(3, 16, 16, 256) dtype=float32>,\n",
       " 'block4_conv1': <tf.Tensor 'block4_conv1_1/Relu:0' shape=(3, 16, 16, 512) dtype=float32>,\n",
       " 'block4_conv2': <tf.Tensor 'block4_conv2_1/Relu:0' shape=(3, 16, 16, 512) dtype=float32>,\n",
       " 'block4_conv3': <tf.Tensor 'block4_conv3_1/Relu:0' shape=(3, 16, 16, 512) dtype=float32>,\n",
       " 'block4_pool': <tf.Tensor 'block4_pool_1/MaxPool:0' shape=(3, 8, 8, 512) dtype=float32>,\n",
       " 'block5_conv1': <tf.Tensor 'block5_conv1_1/Relu:0' shape=(3, 8, 8, 512) dtype=float32>,\n",
       " 'block5_conv2': <tf.Tensor 'block5_conv2_1/Relu:0' shape=(3, 8, 8, 512) dtype=float32>,\n",
       " 'block5_conv3': <tf.Tensor 'block5_conv3_1/Relu:0' shape=(3, 8, 8, 512) dtype=float32>,\n",
       " 'block5_pool': <tf.Tensor 'block5_pool_1/MaxPool:0' shape=(3, 4, 4, 512) dtype=float32>,\n",
       " 'input_2': <tf.Tensor 'concat_1:0' shape=(3, 128, 128, 3) dtype=float32>}"
      ]
     },
     "execution_count": 27,
     "metadata": {},
     "output_type": "execute_result"
    }
   ],
   "source": [
    "layers = dict([(layer.name, layer.output) for layer in model.layers])\n",
    "layers"
   ]
  },
  {
   "cell_type": "code",
   "execution_count": 28,
   "metadata": {},
   "outputs": [
    {
     "name": "stdout",
     "output_type": "stream",
     "text": [
      "_________________________________________________________________\n",
      "Layer (type)                 Output Shape              Param #   \n",
      "=================================================================\n",
      "input_2 (InputLayer)         (None, None, None, 3)     0         \n",
      "_________________________________________________________________\n",
      "block1_conv1 (Conv2D)        (None, None, None, 64)    1792      \n",
      "_________________________________________________________________\n",
      "block1_conv2 (Conv2D)        (None, None, None, 64)    36928     \n",
      "_________________________________________________________________\n",
      "block1_pool (MaxPooling2D)   (None, None, None, 64)    0         \n",
      "_________________________________________________________________\n",
      "block2_conv1 (Conv2D)        (None, None, None, 128)   73856     \n",
      "_________________________________________________________________\n",
      "block2_conv2 (Conv2D)        (None, None, None, 128)   147584    \n",
      "_________________________________________________________________\n",
      "block2_pool (MaxPooling2D)   (None, None, None, 128)   0         \n",
      "_________________________________________________________________\n",
      "block3_conv1 (Conv2D)        (None, None, None, 256)   295168    \n",
      "_________________________________________________________________\n",
      "block3_conv2 (Conv2D)        (None, None, None, 256)   590080    \n",
      "_________________________________________________________________\n",
      "block3_conv3 (Conv2D)        (None, None, None, 256)   590080    \n",
      "_________________________________________________________________\n",
      "block3_pool (MaxPooling2D)   (None, None, None, 256)   0         \n",
      "_________________________________________________________________\n",
      "block4_conv1 (Conv2D)        (None, None, None, 512)   1180160   \n",
      "_________________________________________________________________\n",
      "block4_conv2 (Conv2D)        (None, None, None, 512)   2359808   \n",
      "_________________________________________________________________\n",
      "block4_conv3 (Conv2D)        (None, None, None, 512)   2359808   \n",
      "_________________________________________________________________\n",
      "block4_pool (MaxPooling2D)   (None, None, None, 512)   0         \n",
      "_________________________________________________________________\n",
      "block5_conv1 (Conv2D)        (None, None, None, 512)   2359808   \n",
      "_________________________________________________________________\n",
      "block5_conv2 (Conv2D)        (None, None, None, 512)   2359808   \n",
      "_________________________________________________________________\n",
      "block5_conv3 (Conv2D)        (None, None, None, 512)   2359808   \n",
      "_________________________________________________________________\n",
      "block5_pool (MaxPooling2D)   (None, None, None, 512)   0         \n",
      "=================================================================\n",
      "Total params: 14,714,688\n",
      "Trainable params: 14,714,688\n",
      "Non-trainable params: 0\n",
      "_________________________________________________________________\n"
     ]
    }
   ],
   "source": [
    "model.summary()"
   ]
  },
  {
   "cell_type": "code",
   "execution_count": 29,
   "metadata": {
    "collapsed": true
   },
   "outputs": [],
   "source": [
    "content_weight = 0.05\n",
    "style_weight = 5.0\n",
    "total_variation_weight = 1.0"
   ]
  },
  {
   "cell_type": "code",
   "execution_count": 30,
   "metadata": {
    "collapsed": true
   },
   "outputs": [],
   "source": [
    "loss = backend.variable(0.)"
   ]
  },
  {
   "cell_type": "code",
   "execution_count": 31,
   "metadata": {
    "collapsed": true
   },
   "outputs": [],
   "source": [
    "def content_loss(content , combination):\n",
    "    return backend.sum(backend.square(combination-content))\n",
    "\n",
    "feature_layer=layers['block2_conv2']\n",
    "\n",
    "content_feature=feature_layer[0,:,:,:]\n",
    "combination_feature=feature_layer[2,:,:,:]\n",
    "\n",
    "loss= content_weight* content_loss(content_feature,combination_feature)"
   ]
  },
  {
   "cell_type": "code",
   "execution_count": 32,
   "metadata": {
    "collapsed": true
   },
   "outputs": [],
   "source": [
    "def gram_matrix(x):\n",
    "    x=backend.batch_flatten(backend.permute_dimensions(x,(2,0,1)))\n",
    "    x=backend.dot(x,backend.transpose(x))\n",
    "    return x"
   ]
  },
  {
   "cell_type": "code",
   "execution_count": 33,
   "metadata": {
    "collapsed": true
   },
   "outputs": [],
   "source": [
    "def style_loss(style, combination):\n",
    "    style_gram=gram_matrix(style)\n",
    "    combination_gram=gram_matrix(combination)\n",
    "    channels=3\n",
    "    size=height*width\n",
    "    return backend.sum(backend.square(style_gram-combination_gram)) /  (4. * (channels ** 2) * (size ** 2))\n",
    "                       \n",
    "feature_layer =['block1_conv1','block2_conv2','block3_conv2','block4_conv3','block5_conv3']\n",
    "\n",
    "for layer_name in feature_layer:\n",
    "    f_layers=layers[layer_name]\n",
    "    style_feature=f_layers[1,:,:,:]\n",
    "    combination_feature=f_layers[2,:,:,:]\n",
    "    loss+= style_weight/len(feature_layer)*style_loss(style_feature,combination_feature)\n",
    "                "
   ]
  },
  {
   "cell_type": "code",
   "execution_count": 34,
   "metadata": {},
   "outputs": [],
   "source": [
    "def total_variation_loss(x):\n",
    "    row_variation= backend.square(x[:,1: , :width-1, :]-x[:, : height-1  , : width-1, :])\n",
    "    column_variation= backend.square(x[:, :height-1 , 1: , :]-x[:,  :height-1 , : width-1 ,:])\n",
    "    \n",
    "    return backend.sum(backend.pow(row_variation + column_variation, 1.25))\n",
    "\n",
    "loss += total_variation_weight  * total_variation_loss(combination_output)\n",
    "    "
   ]
  },
  {
   "cell_type": "code",
   "execution_count": 35,
   "metadata": {
    "collapsed": true
   },
   "outputs": [],
   "source": [
    "grad=backend.gradients(loss,combination_output)\n",
    "outputs = [loss]\n",
    "outputs += grad\n",
    "f_outputs=backend.function([combination_output],outputs)"
   ]
  },
  {
   "cell_type": "code",
   "execution_count": 36,
   "metadata": {
    "collapsed": true
   },
   "outputs": [],
   "source": [
    "def eval_loss_and_grads(x):\n",
    "    x = x.reshape((1, height, width, 3))\n",
    "    outs = f_outputs([x])\n",
    "    loss_value = outs[0]\n",
    "    grad_values = outs[1].flatten().astype('float64')\n",
    "    return loss_value, grad_values"
   ]
  },
  {
   "cell_type": "code",
   "execution_count": 37,
   "metadata": {
    "collapsed": true
   },
   "outputs": [],
   "source": [
    "class Evaluator(object):\n",
    "\n",
    "    def __init__(self):\n",
    "        self.loss_value = None\n",
    "        self.grads_values = None\n",
    "\n",
    "    def loss(self, x):\n",
    "        assert self.loss_value is None\n",
    "        loss_value, grad_values = eval_loss_and_grads(x)\n",
    "        self.loss_value = loss_value\n",
    "        self.grad_values = grad_values\n",
    "        return self.loss_value\n",
    "\n",
    "    def grads(self, x):\n",
    "        assert self.loss_value is not None\n",
    "        grad_values = np.copy(self.grad_values)\n",
    "        self.loss_value = None\n",
    "        self.grad_values = None\n",
    "        return grad_values"
   ]
  },
  {
   "cell_type": "code",
   "execution_count": 38,
   "metadata": {
    "collapsed": true
   },
   "outputs": [],
   "source": [
    "evaluator=Evaluator()"
   ]
  },
  {
   "cell_type": "code",
   "execution_count": 39,
   "metadata": {},
   "outputs": [
    {
     "name": "stdout",
     "output_type": "stream",
     "text": [
      "Start of iteration 0\n",
      "Current loss value: 3.41258e+10\n",
      "Iteration 0 completed in 3s\n",
      "Start of iteration 1\n",
      "Current loss value: 2.00038e+10\n",
      "Iteration 1 completed in 1s\n",
      "Start of iteration 2\n",
      "Current loss value: 1.48071e+10\n",
      "Iteration 2 completed in 1s\n",
      "Start of iteration 3\n",
      "Current loss value: 1.26091e+10\n",
      "Iteration 3 completed in 1s\n",
      "Start of iteration 4\n",
      "Current loss value: 1.14484e+10\n",
      "Iteration 4 completed in 1s\n",
      "Start of iteration 5\n",
      "Current loss value: 1.06874e+10\n",
      "Iteration 5 completed in 1s\n",
      "Start of iteration 6\n",
      "Current loss value: 1.00894e+10\n",
      "Iteration 6 completed in 2s\n",
      "Start of iteration 7\n",
      "Current loss value: 9.69807e+09\n",
      "Iteration 7 completed in 1s\n",
      "Start of iteration 8\n",
      "Current loss value: 9.33735e+09\n",
      "Iteration 8 completed in 1s\n",
      "Start of iteration 9\n",
      "Current loss value: 9.08965e+09\n",
      "Iteration 9 completed in 1s\n",
      "Start of iteration 10\n",
      "Current loss value: 8.8523e+09\n",
      "Iteration 10 completed in 1s\n",
      "Start of iteration 11\n",
      "Current loss value: 8.6662e+09\n",
      "Iteration 11 completed in 1s\n",
      "Start of iteration 12\n",
      "Current loss value: 8.50853e+09\n",
      "Iteration 12 completed in 1s\n",
      "Start of iteration 13\n",
      "Current loss value: 8.38233e+09\n",
      "Iteration 13 completed in 1s\n",
      "Start of iteration 14\n",
      "Current loss value: 8.28343e+09\n",
      "Iteration 14 completed in 1s\n",
      "Start of iteration 15\n",
      "Current loss value: 8.17572e+09\n",
      "Iteration 15 completed in 1s\n",
      "Start of iteration 16\n",
      "Current loss value: 8.08383e+09\n",
      "Iteration 16 completed in 1s\n",
      "Start of iteration 17\n",
      "Current loss value: 8.01335e+09\n",
      "Iteration 17 completed in 1s\n",
      "Start of iteration 18\n",
      "Current loss value: 7.9553e+09\n",
      "Iteration 18 completed in 1s\n",
      "Start of iteration 19\n",
      "Current loss value: 7.89597e+09\n",
      "Iteration 19 completed in 1s\n",
      "Start of iteration 20\n",
      "Current loss value: 7.83885e+09\n",
      "Iteration 20 completed in 1s\n",
      "Start of iteration 21\n",
      "Current loss value: 7.79021e+09\n",
      "Iteration 21 completed in 1s\n",
      "Start of iteration 22\n",
      "Current loss value: 7.74534e+09\n",
      "Iteration 22 completed in 1s\n",
      "Start of iteration 23\n",
      "Current loss value: 7.71099e+09\n",
      "Iteration 23 completed in 1s\n",
      "Start of iteration 24\n",
      "Current loss value: 7.68403e+09\n",
      "Iteration 24 completed in 1s\n",
      "Start of iteration 25\n",
      "Current loss value: 7.65744e+09\n",
      "Iteration 25 completed in 1s\n",
      "Start of iteration 26\n",
      "Current loss value: 7.63096e+09\n",
      "Iteration 26 completed in 1s\n",
      "Start of iteration 27\n",
      "Current loss value: 7.60788e+09\n",
      "Iteration 27 completed in 1s\n",
      "Start of iteration 28\n",
      "Current loss value: 7.58789e+09\n",
      "Iteration 28 completed in 1s\n",
      "Start of iteration 29\n",
      "Current loss value: 7.57244e+09\n",
      "Iteration 29 completed in 1s\n"
     ]
    }
   ],
   "source": [
    "x=np.random.uniform(0,255,(1,height,width,3))-128.0\n",
    "\n",
    "for i in range (30):\n",
    "    print('Start of iteration', i)\n",
    "    start_time = time.time()\n",
    "    x, min_val, info = fmin_l_bfgs_b(evaluator.loss, x.flatten(),\n",
    "                                     fprime=evaluator.grads, maxfun=20)\n",
    "    print('Current loss value:', min_val)\n",
    "    end_time = time.time()\n",
    "    print('Iteration %d completed in %ds' % (i, end_time - start_time))\n",
    "    "
   ]
  },
  {
   "cell_type": "code",
   "execution_count": 40,
   "metadata": {},
   "outputs": [
    {
     "data": {
      "image/png": "[encoded data removed]",
      "text/plain": [
       "<PIL.Image.Image image mode=RGB size=128x128 at 0x7FC15598B890>"
      ]
     },
     "execution_count": 40,
     "metadata": {},
     "output_type": "execute_result"
    }
   ],
   "source": [
    "y=x\n",
    "x = x.reshape((height, width, 3))\n",
    "x = x[:, :, ::-1]\n",
    "x[:, :, 0] += 103.939\n",
    "x[:, :, 1] += 116.779\n",
    "x[:, :, 2] += 123.68\n",
    "x = np.clip(x, 0, 255).astype('uint8')\n",
    "Image.fromarray(x)"
   ]
  },
  {
   "cell_type": "code",
   "execution_count": 41,
   "metadata": {},
   "outputs": [
    {
     "name": "stdout",
     "output_type": "stream",
     "text": [
      "Start of iteration 0\n",
      "Current loss value: 3.15051e+10\n",
      "Iteration 0 completed in 1s\n"
     ]
    }
   ],
   "source": [
    "for i in range (1):\n",
    "    print('Start of iteration', i)\n",
    "    start_time = time.time()\n",
    "    y, min_val, info = fmin_l_bfgs_b(evaluator.loss, y.flatten(),\n",
    "                                     fprime=evaluator.grads, maxfun=20)\n",
    "    print('Current loss value:', min_val)\n",
    "    end_time = time.time()\n",
    "    print('Iteration %d completed in %ds' % (i, end_time - start_time))\n",
    "    "
   ]
  },
  {
   "cell_type": "code",
   "execution_count": 42,
   "metadata": {},
   "outputs": [
    {
     "ename": "TypeError",
     "evalue": "Cannot cast ufunc add output from dtype('float64') to dtype('uint8') with casting rule 'same_kind'",
     "output_type": "error",
     "traceback": [
      "\u001b[0;31m---------------------------------------------------------------------------\u001b[0m",
      "\u001b[0;31mTypeError\u001b[0m                                 Traceback (most recent call last)",
      "\u001b[0;32m<ipython-input-42-0a880606bff3>\u001b[0m in \u001b[0;36m<module>\u001b[0;34m()\u001b[0m\n\u001b[1;32m      1\u001b[0m \u001b[0mx\u001b[0m \u001b[0;34m=\u001b[0m \u001b[0mx\u001b[0m\u001b[0;34m.\u001b[0m\u001b[0mreshape\u001b[0m\u001b[0;34m(\u001b[0m\u001b[0;34m(\u001b[0m\u001b[0mheight\u001b[0m\u001b[0;34m,\u001b[0m \u001b[0mwidth\u001b[0m\u001b[0;34m,\u001b[0m \u001b[0;36m3\u001b[0m\u001b[0;34m)\u001b[0m\u001b[0;34m)\u001b[0m\u001b[0;34m\u001b[0m\u001b[0m\n\u001b[1;32m      2\u001b[0m \u001b[0mx\u001b[0m \u001b[0;34m=\u001b[0m \u001b[0mx\u001b[0m\u001b[0;34m[\u001b[0m\u001b[0;34m:\u001b[0m\u001b[0;34m,\u001b[0m \u001b[0;34m:\u001b[0m\u001b[0;34m,\u001b[0m \u001b[0;34m:\u001b[0m\u001b[0;34m:\u001b[0m\u001b[0;34m-\u001b[0m\u001b[0;36m1\u001b[0m\u001b[0;34m]\u001b[0m\u001b[0;34m\u001b[0m\u001b[0m\n\u001b[0;32m----> 3\u001b[0;31m \u001b[0mx\u001b[0m\u001b[0;34m[\u001b[0m\u001b[0;34m:\u001b[0m\u001b[0;34m,\u001b[0m \u001b[0;34m:\u001b[0m\u001b[0;34m,\u001b[0m \u001b[0;36m0\u001b[0m\u001b[0;34m]\u001b[0m \u001b[0;34m+=\u001b[0m \u001b[0;36m103.939\u001b[0m\u001b[0;34m\u001b[0m\u001b[0m\n\u001b[0m\u001b[1;32m      4\u001b[0m \u001b[0mx\u001b[0m\u001b[0;34m[\u001b[0m\u001b[0;34m:\u001b[0m\u001b[0;34m,\u001b[0m \u001b[0;34m:\u001b[0m\u001b[0;34m,\u001b[0m \u001b[0;36m1\u001b[0m\u001b[0;34m]\u001b[0m \u001b[0;34m+=\u001b[0m \u001b[0;36m116.779\u001b[0m\u001b[0;34m\u001b[0m\u001b[0m\n\u001b[1;32m      5\u001b[0m \u001b[0mx\u001b[0m\u001b[0;34m[\u001b[0m\u001b[0;34m:\u001b[0m\u001b[0;34m,\u001b[0m \u001b[0;34m:\u001b[0m\u001b[0;34m,\u001b[0m \u001b[0;36m2\u001b[0m\u001b[0;34m]\u001b[0m \u001b[0;34m+=\u001b[0m \u001b[0;36m123.68\u001b[0m\u001b[0;34m\u001b[0m\u001b[0m\n",
      "\u001b[0;31mTypeError\u001b[0m: Cannot cast ufunc add output from dtype('float64') to dtype('uint8') with casting rule 'same_kind'"
     ]
    }
   ],
   "source": [
    "x = x.reshape((height, width, 3))\n",
    "x = x[:, :, ::-1]\n",
    "x[:, :, 0] += 103.939\n",
    "x[:, :, 1] += 116.779\n",
    "x[:, :, 2] += 123.68\n",
    "x = np.clip(x, 0, 255).astype('uint8')\n",
    "Image.fromarray(x)"
   ]
  }
 ],
 "metadata": {
  "kernelspec": {
   "display_name": "Python 2",
   "language": "python",
   "name": "python2"
  },
  "language_info": {
   "codemirror_mode": {
    "name": "ipython",
    "version": 2
   },
   "file_extension": ".py",
   "mimetype": "text/x-python",
   "name": "python",
   "nbconvert_exporter": "python",
   "pygments_lexer": "ipython2",
   "version": "2.7.12"
  }
 },
 "nbformat": 4,
 "nbformat_minor": 2
}
